{
 "cells": [
  {
   "cell_type": "code",
   "execution_count": 1,
   "metadata": {},
   "outputs": [
    {
     "name": "stdout",
     "output_type": "stream",
     "text": [
      "Looking in indexes: https://pypi.tuna.tsinghua.edu.cn/simple, https://pypi.org/simple/\n",
      "Requirement already satisfied: paddle2onnx in /opt/miniconda3/envs/rapidTableDet/lib/python3.10/site-packages (1.0.9)\n",
      "Requirement already satisfied: onnxruntime in /opt/miniconda3/envs/rapidTableDet/lib/python3.10/site-packages (1.19.2)\n",
      "Collecting onnxslim\n",
      "  Using cached onnxslim-0.1.35-py3-none-any.whl.metadata (3.0 kB)\n",
      "Collecting onnxruntime-tools\n",
      "  Using cached onnxruntime_tools-1.7.0-py3-none-any.whl.metadata (14 kB)\n",
      "Collecting onnx\n",
      "  Using cached onnx-1.17.0-cp310-cp310-macosx_12_0_universal2.whl.metadata (16 kB)\n",
      "Requirement already satisfied: coloredlogs in /opt/miniconda3/envs/rapidTableDet/lib/python3.10/site-packages (from onnxruntime) (15.0.1)\n",
      "Requirement already satisfied: flatbuffers in /opt/miniconda3/envs/rapidTableDet/lib/python3.10/site-packages (from onnxruntime) (24.3.25)\n",
      "Requirement already satisfied: numpy>=1.21.6 in /opt/miniconda3/envs/rapidTableDet/lib/python3.10/site-packages (from onnxruntime) (1.26.4)\n",
      "Requirement already satisfied: packaging in /opt/miniconda3/envs/rapidTableDet/lib/python3.10/site-packages (from onnxruntime) (24.1)\n",
      "Requirement already satisfied: protobuf in /opt/miniconda3/envs/rapidTableDet/lib/python3.10/site-packages (from onnxruntime) (5.28.2)\n",
      "Requirement already satisfied: sympy in /opt/miniconda3/envs/rapidTableDet/lib/python3.10/site-packages (from onnxruntime) (1.13.3)\n",
      "Requirement already satisfied: psutil in /opt/miniconda3/envs/rapidTableDet/lib/python3.10/site-packages (from onnxruntime-tools) (6.0.0)\n",
      "Collecting py-cpuinfo (from onnxruntime-tools)\n",
      "  Using cached py_cpuinfo-9.0.0-py3-none-any.whl.metadata (794 bytes)\n",
      "Collecting py3nvml (from onnxruntime-tools)\n",
      "  Using cached py3nvml-0.2.7-py3-none-any.whl.metadata (13 kB)\n",
      "Requirement already satisfied: humanfriendly>=9.1 in /opt/miniconda3/envs/rapidTableDet/lib/python3.10/site-packages (from coloredlogs->onnxruntime) (10.0)\n",
      "Collecting xmltodict (from py3nvml->onnxruntime-tools)\n",
      "  Using cached xmltodict-0.14.1-py2.py3-none-any.whl.metadata (8.0 kB)\n",
      "Requirement already satisfied: mpmath<1.4,>=1.1.0 in /opt/miniconda3/envs/rapidTableDet/lib/python3.10/site-packages (from sympy->onnxruntime) (1.3.0)\n",
      "Using cached onnxslim-0.1.35-py3-none-any.whl (140 kB)\n",
      "Using cached onnxruntime_tools-1.7.0-py3-none-any.whl (212 kB)\n",
      "Downloading onnx-1.17.0-cp310-cp310-macosx_12_0_universal2.whl (16.6 MB)\n",
      "\u001B[2K   \u001B[90m━━━━━━━━━━━━━━━━━━━━━━━━━━━━━━━━━━━━━━━━\u001B[0m \u001B[32m16.6/16.6 MB\u001B[0m \u001B[31m2.3 MB/s\u001B[0m eta \u001B[36m0:00:00\u001B[0ma \u001B[36m0:00:01\u001B[0m\n",
      "\u001B[?25hUsing cached py_cpuinfo-9.0.0-py3-none-any.whl (22 kB)\n",
      "Using cached py3nvml-0.2.7-py3-none-any.whl (55 kB)\n",
      "Downloading xmltodict-0.14.1-py2.py3-none-any.whl (10.0 kB)\n",
      "Installing collected packages: py-cpuinfo, xmltodict, onnx, py3nvml, onnxslim, onnxruntime-tools\n",
      "Successfully installed onnx-1.17.0 onnxruntime-tools-1.7.0 onnxslim-0.1.35 py-cpuinfo-9.0.0 py3nvml-0.2.7 xmltodict-0.14.1\n"
     ]
    }
   ],
   "source": [
    "!pip install paddle2onnx onnxruntime onnxslim onnxruntime-tools onnx  -i https://pypi.tuna.tsinghua.edu.cn/simple"
   ]
  },
  {
   "cell_type": "code",
   "execution_count": 1,
   "metadata": {
    "collapsed": false,
    "jupyter": {
     "outputs_hidden": false
    },
    "pycharm": {
     "name": "#%%\n"
    }
   },
   "outputs": [
    {
     "name": "stdout",
     "output_type": "stream",
     "text": [
      "[Paddle2ONNX] Start to parse PaddlePaddle model...\n",
      "[Paddle2ONNX] Model file path: rapid_table_det_paddle/models/obj_det/model.pdmodel\n",
      "[Paddle2ONNX] Paramters file path: rapid_table_det_paddle/models/obj_det/model.pdiparams\n",
      "[Paddle2ONNX] Start to parsing Paddle model...\n",
      "[Paddle2ONNX] Use opset_version = 16 for ONNX export.\n",
      "[WARN][Paddle2ONNX] [multiclass_nms3: multiclass_nms3_0.tmp_1] [WARNING] Due to the operator multiclass_nms3, the exported ONNX model will only supports inference with input batch_size == 1.\n",
      "[Paddle2ONNX] PaddlePaddle model is exported as ONNX format now.\n",
      "2024-10-15 14:58:28 [INFO]\t===============Make PaddlePaddle Better!================\n",
      "2024-10-15 14:58:28 [INFO]\tA little survey: https://iwenjuan.baidu.com/?code=r8hu2s\n",
      "[Paddle2ONNX] Start to parse PaddlePaddle model...\n",
      "[Paddle2ONNX] Model file path: rapid_table_det_paddle/models/db_net/model.pdmodel\n",
      "[Paddle2ONNX] Paramters file path: rapid_table_det_paddle/models/db_net/model.pdiparams\n",
      "[Paddle2ONNX] Start to parsing Paddle model...\n",
      "[Paddle2ONNX] Use opset_version = 16 for ONNX export.\n",
      "[Paddle2ONNX] PaddlePaddle model is exported as ONNX format now.\n",
      "2024-10-15 14:58:28 [INFO]\t===============Make PaddlePaddle Better!================\n",
      "2024-10-15 14:58:28 [INFO]\tA little survey: https://iwenjuan.baidu.com/?code=r8hu2s\n",
      "[Paddle2ONNX] Start to parse PaddlePaddle model...\n",
      "[Paddle2ONNX] Model file path: rapid_table_det_paddle/models/pplcnet/model.pdmodel\n",
      "[Paddle2ONNX] Paramters file path: rapid_table_det_paddle/models/pplcnet/model.pdiparams\n",
      "[Paddle2ONNX] Start to parsing Paddle model...\n",
      "[Paddle2ONNX] Use opset_version = 16 for ONNX export.\n",
      "[Paddle2ONNX] PaddlePaddle model is exported as ONNX format now.\n",
      "2024-10-15 14:58:28 [INFO]\t===============Make PaddlePaddle Better!================\n",
      "2024-10-15 14:58:28 [INFO]\tA little survey: https://iwenjuan.baidu.com/?code=r8hu2s\n",
      "Onnx Runtime version 1.19 has no specified compatible ONNX version.\n",
      "+------------------------------+----------------------------------------+---------------------------------+\n",
      "|          Model Name          |              obj_det.onnx              |           Op Set: 16            |\n",
      "+------------------------------+----------------------------------------+---------------------------------+\n",
      "|          Model Info          |             Original Model             |          Slimmed Model          |\n",
      "+------------------------------+----------------------------------------+---------------------------------+\n",
      "|          IN: image           | float32: ('p2o.DynamicDimension.0', 3, |    float32: (1, 3, 928, 928)    |\n",
      "|                              |               928, 928)                |                                 |\n",
      "|       IN: scale_factor       | float32: ('p2o.DynamicDimension.1', 2) |         float32: (1, 2)         |\n",
      "|          IN: image           | float32: ('p2o.DynamicDimension.0', 3, |    float32: (1, 3, 928, 928)    |\n",
      "|                              |               928, 928)                |                                 |\n",
      "|       IN: scale_factor       | float32: ('p2o.DynamicDimension.1', 2) |         float32: (1, 2)         |\n",
      "| OUT: multiclass_nms3_0.tmp_0 | float32: ('p2o.DynamicDimension.2', 6) | float32: ('TopK_535_o0__d0', 6) |\n",
      "| OUT: multiclass_nms3_0.tmp_2 |   int32: ('p2o.DynamicDimension.3',)   |           int32: (1,)           |\n",
      "| OUT: multiclass_nms3_0.tmp_0 | float32: ('p2o.DynamicDimension.2', 6) | float32: ('TopK_535_o0__d0', 6) |\n",
      "| OUT: multiclass_nms3_0.tmp_2 |   int32: ('p2o.DynamicDimension.3',)   |           int32: (1,)           |\n",
      "+------------------------------+----------------------------------------+---------------------------------+\n",
      "|             Add              |                   30                   |               30                |\n",
      "|      BatchNormalization      |                   89                   |                \u001B[32m0\u001B[37m\u001B[0m                |\n",
      "|             Cast             |                   2                    |                2                |\n",
      "|            Concat            |                   20                   |               20                |\n",
      "|           Constant           |                  735                   |                \u001B[32m0\u001B[37m\u001B[0m                |\n",
      "|             Conv             |                  152                   |               152               |\n",
      "|             Div              |                   1                    |                1                |\n",
      "|            Gather            |                   7                    |                7                |\n",
      "|      GlobalAveragePool       |                   3                    |                3                |\n",
      "|         HardSigmoid          |                   4                    |                4                |\n",
      "|           MaxPool            |                   3                    |                3                |\n",
      "|             Mul              |                  279                   |               \u001B[32m146\u001B[37m\u001B[0m               |\n",
      "|      NonMaxSuppression       |                   1                    |                1                |\n",
      "|          ReduceMean          |                   4                    |                4                |\n",
      "|          ReduceMin           |                   1                    |                1                |\n",
      "|           Reshape            |                   12                   |               \u001B[32m11\u001B[37m\u001B[0m                |\n",
      "|            Resize            |                   2                    |                2                |\n",
      "|            Shape             |                   2                    |                2                |\n",
      "|           Sigmoid            |                  142                   |               142               |\n",
      "|            Slice             |                   2                    |                2                |\n",
      "|           Softmax            |                   3                    |                3                |\n",
      "|            Split             |                   2                    |                2                |\n",
      "|           Squeeze            |                   6                    |                6                |\n",
      "|             TopK             |                   1                    |                1                |\n",
      "|          Transpose           |                   3                    |                3                |\n",
      "+------------------------------+----------------------------------------+---------------------------------+\n",
      "|          Model Size          |               371.46 MB                |            371.08 MB            |\n",
      "+------------------------------+----------------------------------------+---------------------------------+\n",
      "|         Elapsed Time         |                                  3.99 s                                  |\n",
      "+------------------------------+----------------------------------------+---------------------------------+\n",
      "Onnx Runtime version 1.19 has no specified compatible ONNX version.\n",
      "+-------------------------+----------------------------------------+----------------------------------------+\n",
      "|       Model Name        |             edge_det.onnx              |               Op Set: 16               |\n",
      "+-------------------------+----------------------------------------+----------------------------------------+\n",
      "|       Model Info        |             Original Model             |             Slimmed Model              |\n",
      "+-------------------------+----------------------------------------+----------------------------------------+\n",
      "|        IN: input        | float32: ('p2o.DynamicDimension.0', 3, | float32: ('p2o.DynamicDimension.0', 3, |\n",
      "|                         |               800, 800)                |               800, 800)                |\n",
      "|        IN: input        | float32: ('p2o.DynamicDimension.0', 3, | float32: ('p2o.DynamicDimension.0', 3, |\n",
      "|                         |               800, 800)                |               800, 800)                |\n",
      "| OUT: reciprocal_0.tmp_0 | float32: ('p2o.DynamicDimension.1', 1, | float32: ('p2o.DynamicDimension.0', 1, |\n",
      "|                         |               800, 800)                |               800, 800)                |\n",
      "| OUT: reciprocal_0.tmp_0 | float32: ('p2o.DynamicDimension.1', 1, | float32: ('p2o.DynamicDimension.0', 1, |\n",
      "|                         |               800, 800)                |               800, 800)                |\n",
      "+-------------------------+----------------------------------------+----------------------------------------+\n",
      "|           Add           |                   24                   |                   24                   |\n",
      "|       AveragePool       |                   3                    |                   3                    |\n",
      "|   BatchNormalization    |                   59                   |                   \u001B[32m2\u001B[37m\u001B[0m                    |\n",
      "|         Concat          |                   1                    |                   1                    |\n",
      "|        Constant         |                  323                   |                   \u001B[32m0\u001B[37m\u001B[0m                    |\n",
      "|          Conv           |                   65                   |                   65                   |\n",
      "|      ConvTranspose      |                   4                    |                   4                    |\n",
      "|           Exp           |                   1                    |                   1                    |\n",
      "|         MaxPool         |                   1                    |                   1                    |\n",
      "|           Mul           |                   1                    |                   1                    |\n",
      "|       Reciprocal        |                   1                    |                   1                    |\n",
      "|          Relu           |                   55                   |                   55                   |\n",
      "|         Resize          |                   6                    |                   6                    |\n",
      "|         Sigmoid         |                   2                    |                   2                    |\n",
      "|           Sub           |                   1                    |                   1                    |\n",
      "+-------------------------+----------------------------------------+----------------------------------------+\n",
      "|       Model Size        |                97.26 MB                |                96.94 MB                |\n",
      "+-------------------------+----------------------------------------+----------------------------------------+\n",
      "|      Elapsed Time       |                                      0.81 s                                     |\n",
      "+-------------------------+----------------------------------------+----------------------------------------+\n",
      "Onnx Runtime version 1.19 has no specified compatible ONNX version.\n",
      "+---------------------+----------------------------------------+----------------------------------------+\n",
      "|     Model Name      |              cls_det.onnx              |               Op Set: 16               |\n",
      "+---------------------+----------------------------------------+----------------------------------------+\n",
      "|     Model Info      |             Original Model             |             Slimmed Model              |\n",
      "+---------------------+----------------------------------------+----------------------------------------+\n",
      "|      IN: input      | float32: ('p2o.DynamicDimension.0', 3, | float32: ('p2o.DynamicDimension.0', 3, |\n",
      "|                     |               624, 624)                |               624, 624)                |\n",
      "|      IN: input      | float32: ('p2o.DynamicDimension.0', 3, | float32: ('p2o.DynamicDimension.0', 3, |\n",
      "|                     |               624, 624)                |               624, 624)                |\n",
      "| OUT: linear_1.tmp_1 | float32: ('p2o.DynamicDimension.1', 4) | float32: ('p2o.DynamicDimension.0', 4) |\n",
      "| OUT: linear_1.tmp_1 | float32: ('p2o.DynamicDimension.1', 4) | float32: ('p2o.DynamicDimension.0', 4) |\n",
      "+---------------------+----------------------------------------+----------------------------------------+\n",
      "|         Add         |                   1                    |                   1                    |\n",
      "| BatchNormalization  |                   27                   |                   \u001B[32m0\u001B[37m\u001B[0m                    |\n",
      "|       Concat        |                   1                    |                   \u001B[32m0\u001B[37m\u001B[0m                    |\n",
      "|      Constant       |                  151                   |                   \u001B[32m0\u001B[37m\u001B[0m                    |\n",
      "|        Conv         |                   32                   |                   32                   |\n",
      "|  GlobalAveragePool  |                   3                    |                   3                    |\n",
      "|     HardSigmoid     |                   2                    |                   2                    |\n",
      "|      HardSwish      |                   28                   |                   28                   |\n",
      "|       MatMul        |                   1                    |                   1                    |\n",
      "|         Mul         |                   3                    |                   3                    |\n",
      "|        Relu         |                   2                    |                   2                    |\n",
      "|       Reshape       |                   1                    |                   1                    |\n",
      "|        Shape        |                   1                    |                   \u001B[32m0\u001B[37m\u001B[0m                    |\n",
      "|        Slice        |                   1                    |                   \u001B[32m0\u001B[37m\u001B[0m                    |\n",
      "+---------------------+----------------------------------------+----------------------------------------+\n",
      "|     Model Size      |                6.46 MB                 |                6.39 MB                 |\n",
      "+---------------------+----------------------------------------+----------------------------------------+\n",
      "|    Elapsed Time     |                                      0.11 s                                     |\n",
      "+---------------------+----------------------------------------+----------------------------------------+\n"
     ]
    }
   ],
   "source": [
    "!paddle2onnx --model_dir rapid_table_det_paddle/models/obj_det --model_filename model.pdmodel --params_filename model.pdiparams --save_file rapid_table_det/models/obj_det.onnx --opset_version 16 --enable_onnx_checker True\n",
    "!paddle2onnx --model_dir rapid_table_det_paddle/models/db_net --model_filename model.pdmodel --params_filename model.pdiparams --save_file rapid_table_det/models/edge_det.onnx --opset_version 16 --enable_onnx_checker True\n",
    "!paddle2onnx --model_dir rapid_table_det_paddle/models/pplcnet --model_filename model.pdmodel --params_filename model.pdiparams --save_file rapid_table_det/models/cls_det.onnx --opset_version 16 --enable_onnx_checker True\n",
    "\n",
    "!onnxslim rapid_table_det/models/obj_det.onnx rapid_table_det/models/obj_det.onnx\n",
    "!onnxslim rapid_table_det/models/edge_det.onnx rapid_table_det/models/edge_det.onnx\n",
    "!onnxslim rapid_table_det/models/cls_det.onnx rapid_table_det/models/cls_det.onnx"
   ]
  },
  {
   "cell_type": "code",
   "execution_count": 9,
   "metadata": {
    "collapsed": false,
    "jupyter": {
     "outputs_hidden": false
    },
    "pycharm": {
     "name": "#%%\n"
    }
   },
   "outputs": [],
   "source": [
    "from pathlib import Path\n",
    "import onnx\n",
    "from onnxruntime.quantization import quantize_dynamic, QuantType, quant_pre_process\n",
    "def quantize_model(root_dir_str, model_dir, pre_fix):\n",
    "\n",
    "    original_model_path = f\"{pre_fix}.onnx\"\n",
    "    # quantized_model_path = f\"{pre_fix}_quantized.onnx\"\n",
    "    quantized_model_path = original_model_path\n",
    "    original_model_path = f\"{root_dir_str}/{model_dir}/{original_model_path}\"\n",
    "    quantized_model_path = f\"{root_dir_str}/{model_dir}/{quantized_model_path}\"\n",
    "    quant_pre_process(original_model_path, quantized_model_path, auto_merge=True)\n",
    "    # 进行动态量化\n",
    "    quantize_dynamic(\n",
    "        model_input=quantized_model_path,\n",
    "        model_output=quantized_model_path,\n",
    "        weight_type=QuantType.QUInt8\n",
    "    )\n",
    "\n",
    "    # 验证量化后的模型\n",
    "    quantized_model = onnx.load(quantized_model_path)\n",
    "    onnx.checker.check_model(quantized_model)\n",
    "    print(\"Quantized model is valid.\")"
   ]
  },
  {
   "cell_type": "code",
   "execution_count": 10,
   "metadata": {
    "collapsed": false,
    "jupyter": {
     "outputs_hidden": false
    },
    "pycharm": {
     "name": "#%%\n"
    }
   },
   "outputs": [
    {
     "name": "stdout",
     "output_type": "stream",
     "text": [
      "Quantized model is valid.\n",
      "Quantized model is valid.\n"
     ]
    }
   ],
   "source": [
    "root_dir_str = \".\"\n",
    "model_dir = f\"rapid_table_det/models\"\n",
    "quantize_model(root_dir_str, model_dir,  \"obj_det\")\n",
    "quantize_model(root_dir_str, model_dir,  \"edge_det\")\n",
    "# quantize_model(root_dir_str, model_dir,  \"cls_det\")"
   ]
  },
  {
   "cell_type": "code",
   "execution_count": null,
   "metadata": {},
   "outputs": [],
   "source": []
  }
 ],
 "metadata": {
  "kernelspec": {
   "display_name": "Python 3 (ipykernel)",
   "language": "python",
   "name": "python3"
  },
  "language_info": {
   "codemirror_mode": {
    "name": "ipython",
    "version": 3
   },
   "file_extension": ".py",
   "mimetype": "text/x-python",
   "name": "python",
   "nbconvert_exporter": "python",
   "pygments_lexer": "ipython3",
   "version": "3.10.15"
  }
 },
 "nbformat": 4,
 "nbformat_minor": 4
}