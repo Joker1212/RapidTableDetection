{
 "cells": [
  {
   "cell_type": "code",
   "execution_count": 3,
   "metadata": {},
   "outputs": [],
   "source": [
    "!pip install paddle2onnx onnxruntime onnxslim onnxruntime-tools onnx pickleshare -i https://pypi.tuna.tsinghua.edu.cn/simple"
   ]
  },
  {
   "cell_type": "code",
   "metadata": {
    "collapsed": false,
    "jupyter": {
     "outputs_hidden": false
    },
    "pycharm": {
     "name": "#%%\n"
    },
    "ExecuteTime": {
     "end_time": "2024-10-19T13:58:51.289307Z",
     "start_time": "2024-10-19T13:58:31.510101Z"
    }
   },
   "source": [
    "!paddle2onnx --model_dir ../rapid_table_det_paddle/models --model_filename obj_det_paddle.pdmodel --params_filename obj_det_paddle.pdiparams --save_file ../rapid_table_det/models/obj_det.onnx --opset_version 16 --enable_onnx_checker True\n",
    "!paddle2onnx --model_dir ../rapid_table_det_paddle/models --model_filename edge_det_paddle.pdmodel --params_filename edge_det_paddle.pdiparams --save_file ../rapid_table_det/models/edge_det.onnx --opset_version 16 --enable_onnx_checker True\n",
    "!paddle2onnx --model_dir ../rapid_table_det_paddle/models --model_filename cls_det_paddle.pdmodel --params_filename cls_det_paddle.pdiparams --save_file ../rapid_table_det/models/cls_det.onnx --opset_version 16 --enable_onnx_checker True\n",
    "\n",
    "!onnxslim ../rapid_table_det/models/obj_det.onnx ../rapid_table_det/models/obj_det.onnx\n",
    "!onnxslim ../rapid_table_det/models/edge_det.onnx ../rapid_table_det/models/edge_det.onnx\n",
    "!onnxslim ../rapid_table_det/models/cls_det.onnx ../rapid_table_det/models/cls_det.onnx"
   ],
   "outputs": [
    {
     "name": "stdout",
     "output_type": "stream",
     "text": [
      "[Paddle2ONNX] Start to parse PaddlePaddle model...\n",
      "[Paddle2ONNX] Model file path: ../rapid_table_det_paddle/models\\obj_det_paddle.pdmodel\n",
      "[Paddle2ONNX] Paramters file path: ../rapid_table_det_paddle/models\\obj_det_paddle.pdiparams\n",
      "[Paddle2ONNX] Start to parsing Paddle model...\n",
      "[Paddle2ONNX] Use opset_version = 16 for ONNX export.\n",
      "[WARN][Paddle2ONNX] [multiclass_nms3: multiclass_nms3_0.tmp_1] [WARNING] Due to the operator multiclass_nms3, the exported ONNX model will only supports inference with input batch_size == 1.\n",
      "[Paddle2ONNX] PaddlePaddle model is exported as ONNX format now.\n",
      "2024-10-19 21:58:34 [INFO]\t===============Make PaddlePaddle Better!================\n",
      "2024-10-19 21:58:34 [INFO]\tA little survey: https://iwenjuan.baidu.com/?code=r8hu2s\n",
      "[Paddle2ONNX] Start to parse PaddlePaddle model...\n",
      "[Paddle2ONNX] Model file path: ../rapid_table_det_paddle/models\\edge_det_paddle.pdmodel\n",
      "[Paddle2ONNX] Paramters file path: ../rapid_table_det_paddle/models\\edge_det_paddle.pdiparams\n",
      "[Paddle2ONNX] Start to parsing Paddle model...\n",
      "[Paddle2ONNX] Use opset_version = 16 for ONNX export.\n",
      "[Paddle2ONNX] PaddlePaddle model is exported as ONNX format now.\n",
      "2024-10-19 21:58:35 [INFO]\t===============Make PaddlePaddle Better!================\n",
      "2024-10-19 21:58:35 [INFO]\tA little survey: https://iwenjuan.baidu.com/?code=r8hu2s\n",
      "[Paddle2ONNX] Start to parse PaddlePaddle model...\n",
      "[Paddle2ONNX] Model file path: ../rapid_table_det_paddle/models\\cls_det_paddle.pdmodel\n",
      "[Paddle2ONNX] Paramters file path: ../rapid_table_det_paddle/models\\cls_det_paddle.pdiparams\n",
      "[Paddle2ONNX] Start to parsing Paddle model...\n",
      "[Paddle2ONNX] Use opset_version = 16 for ONNX export.\n",
      "[Paddle2ONNX] PaddlePaddle model is exported as ONNX format now.\n",
      "2024-10-19 21:58:35 [INFO]\t===============Make PaddlePaddle Better!================\n",
      "2024-10-19 21:58:35 [INFO]\tA little survey: https://iwenjuan.baidu.com/?code=r8hu2s\n",
      "+------------------------------+----------------------------------------+---------------------------------+\n",
      "|          Model Name          |              obj_det.onnx              |           Op Set: 16            |\n",
      "+------------------------------+----------------------------------------+---------------------------------+\n",
      "|          Model Info          |             Original Model             |          Slimmed Model          |\n",
      "+------------------------------+----------------------------------------+---------------------------------+\n",
      "|          IN: image           | float32: ('p2o.DynamicDimension.0', 3, |    float32: (1, 3, 928, 928)    |\n",
      "|                              |               928, 928)                |                                 |\n",
      "|       IN: scale_factor       | float32: ('p2o.DynamicDimension.1', 2) |         float32: (1, 2)         |\n",
      "|          IN: image           | float32: ('p2o.DynamicDimension.0', 3, |    float32: (1, 3, 928, 928)    |\n",
      "|                              |               928, 928)                |                                 |\n",
      "|       IN: scale_factor       | float32: ('p2o.DynamicDimension.1', 2) |         float32: (1, 2)         |\n",
      "| OUT: multiclass_nms3_0.tmp_0 | float32: ('p2o.DynamicDimension.2', 6) | float32: ('TopK_535_o0__d0', 6) |\n",
      "| OUT: multiclass_nms3_0.tmp_2 |   int32: ('p2o.DynamicDimension.3',)   |           int32: (1,)           |\n",
      "| OUT: multiclass_nms3_0.tmp_0 | float32: ('p2o.DynamicDimension.2', 6) | float32: ('TopK_535_o0__d0', 6) |\n",
      "| OUT: multiclass_nms3_0.tmp_2 |   int32: ('p2o.DynamicDimension.3',)   |           int32: (1,)           |\n",
      "+------------------------------+----------------------------------------+---------------------------------+\n",
      "|             Add              |                   30                   |               30                |\n",
      "|      BatchNormalization      |                   89                   |                \u001B[32m0\u001B[37m\u001B[0m                |\n",
      "|             Cast             |                   2                    |                2                |\n",
      "|            Concat            |                   20                   |               20                |\n",
      "|           Constant           |                  735                   |                \u001B[32m0\u001B[37m\u001B[0m                |\n",
      "|             Conv             |                  152                   |               152               |\n",
      "|             Div              |                   1                    |                1                |\n",
      "|            Gather            |                   7                    |                7                |\n",
      "|      GlobalAveragePool       |                   3                    |                3                |\n",
      "|         HardSigmoid          |                   4                    |                4                |\n",
      "|           MaxPool            |                   3                    |                3                |\n",
      "|             Mul              |                  279                   |               \u001B[32m146\u001B[37m\u001B[0m               |\n",
      "|      NonMaxSuppression       |                   1                    |                1                |\n",
      "|          ReduceMean          |                   4                    |                4                |\n",
      "|          ReduceMin           |                   1                    |                1                |\n",
      "|           Reshape            |                   12                   |               \u001B[32m11\u001B[37m\u001B[0m                |\n",
      "|            Resize            |                   2                    |                2                |\n",
      "|            Shape             |                   2                    |                2                |\n",
      "|           Sigmoid            |                  142                   |               142               |\n",
      "|            Slice             |                   2                    |                2                |\n",
      "|           Softmax            |                   3                    |                3                |\n",
      "|            Split             |                   2                    |                2                |\n",
      "|           Squeeze            |                   6                    |                6                |\n",
      "|             TopK             |                   1                    |                1                |\n",
      "|          Transpose           |                   3                    |                3                |\n",
      "+------------------------------+----------------------------------------+---------------------------------+\n",
      "|          Model Size          |               371.46 MB                |            371.08 MB            |\n",
      "+------------------------------+----------------------------------------+---------------------------------+\n",
      "|         Elapsed Time         |                                  9.41 s                                  |\n",
      "+------------------------------+----------------------------------------+---------------------------------+\n"
     ]
    },
    {
     "name": "stderr",
     "output_type": "stream",
     "text": [
      "Onnx Runtime version 1.19 has no specified compatible ONNX version.\n"
     ]
    },
    {
     "name": "stdout",
     "output_type": "stream",
     "text": [
      "+-------------------------+----------------------------------------+----------------------------------------+\n",
      "|       Model Name        |             edge_det.onnx              |               Op Set: 16               |\n",
      "+-------------------------+----------------------------------------+----------------------------------------+\n",
      "|       Model Info        |             Original Model             |             Slimmed Model              |\n",
      "+-------------------------+----------------------------------------+----------------------------------------+\n",
      "|        IN: input        | float32: ('p2o.DynamicDimension.0', 3, | float32: ('p2o.DynamicDimension.0', 3, |\n",
      "|                         |               800, 800)                |               800, 800)                |\n",
      "|        IN: input        | float32: ('p2o.DynamicDimension.0', 3, | float32: ('p2o.DynamicDimension.0', 3, |\n",
      "|                         |               800, 800)                |               800, 800)                |\n",
      "| OUT: reciprocal_0.tmp_0 | float32: ('p2o.DynamicDimension.1', 1, | float32: ('p2o.DynamicDimension.0', 1, |\n",
      "|                         |               800, 800)                |               800, 800)                |\n",
      "| OUT: reciprocal_0.tmp_0 | float32: ('p2o.DynamicDimension.1', 1, | float32: ('p2o.DynamicDimension.0', 1, |\n",
      "|                         |               800, 800)                |               800, 800)                |\n",
      "+-------------------------+----------------------------------------+----------------------------------------+\n",
      "|           Add           |                   24                   |                   24                   |\n",
      "|       AveragePool       |                   3                    |                   3                    |\n",
      "|   BatchNormalization    |                   59                   |                   \u001B[32m2\u001B[37m\u001B[0m                    |\n",
      "|         Concat          |                   1                    |                   1                    |\n",
      "|        Constant         |                  323                   |                   \u001B[32m0\u001B[37m\u001B[0m                    |\n",
      "|          Conv           |                   65                   |                   65                   |\n",
      "|      ConvTranspose      |                   4                    |                   4                    |\n",
      "|           Exp           |                   1                    |                   1                    |\n",
      "|         MaxPool         |                   1                    |                   1                    |\n",
      "|           Mul           |                   1                    |                   1                    |\n",
      "|       Reciprocal        |                   1                    |                   1                    |\n",
      "|          Relu           |                   55                   |                   55                   |\n",
      "|         Resize          |                   6                    |                   6                    |\n",
      "|         Sigmoid         |                   2                    |                   2                    |\n",
      "|           Sub           |                   1                    |                   1                    |\n",
      "+-------------------------+----------------------------------------+----------------------------------------+\n",
      "|       Model Size        |                97.26 MB                |                96.94 MB                |\n",
      "+-------------------------+----------------------------------------+----------------------------------------+\n",
      "|      Elapsed Time       |                                      1.88 s                                     |\n",
      "+-------------------------+----------------------------------------+----------------------------------------+\n"
     ]
    },
    {
     "name": "stderr",
     "output_type": "stream",
     "text": [
      "Onnx Runtime version 1.19 has no specified compatible ONNX version.\n"
     ]
    },
    {
     "name": "stdout",
     "output_type": "stream",
     "text": [
      "+---------------------+----------------------------------------+----------------------------------------+\n",
      "|     Model Name      |              cls_det.onnx              |               Op Set: 16               |\n",
      "+---------------------+----------------------------------------+----------------------------------------+\n",
      "|     Model Info      |             Original Model             |             Slimmed Model              |\n",
      "+---------------------+----------------------------------------+----------------------------------------+\n",
      "|      IN: input      | float32: ('p2o.DynamicDimension.0', 3, | float32: ('p2o.DynamicDimension.0', 3, |\n",
      "|                     |               624, 624)                |               624, 624)                |\n",
      "|      IN: input      | float32: ('p2o.DynamicDimension.0', 3, | float32: ('p2o.DynamicDimension.0', 3, |\n",
      "|                     |               624, 624)                |               624, 624)                |\n",
      "| OUT: linear_1.tmp_1 | float32: ('p2o.DynamicDimension.1', 4) | float32: ('p2o.DynamicDimension.0', 4) |\n",
      "| OUT: linear_1.tmp_1 | float32: ('p2o.DynamicDimension.1', 4) | float32: ('p2o.DynamicDimension.0', 4) |\n",
      "+---------------------+----------------------------------------+----------------------------------------+\n",
      "|         Add         |                   1                    |                   1                    |\n",
      "| BatchNormalization  |                   27                   |                   \u001B[32m0\u001B[37m\u001B[0m                    |\n",
      "|       Concat        |                   1                    |                   \u001B[32m0\u001B[37m\u001B[0m                    |\n",
      "|      Constant       |                  151                   |                   \u001B[32m0\u001B[37m\u001B[0m                    |\n",
      "|        Conv         |                   32                   |                   32                   |\n",
      "|  GlobalAveragePool  |                   3                    |                   3                    |\n",
      "|     HardSigmoid     |                   2                    |                   2                    |\n",
      "|      HardSwish      |                   28                   |                   28                   |\n",
      "|       MatMul        |                   1                    |                   1                    |\n",
      "|         Mul         |                   3                    |                   3                    |\n",
      "|        Relu         |                   2                    |                   2                    |\n",
      "|       Reshape       |                   1                    |                   1                    |\n",
      "|        Shape        |                   1                    |                   \u001B[32m0\u001B[37m\u001B[0m                    |\n",
      "|        Slice        |                   1                    |                   \u001B[32m0\u001B[37m\u001B[0m                    |\n",
      "+---------------------+----------------------------------------+----------------------------------------+\n",
      "|     Model Size      |                6.46 MB                 |                6.39 MB                 |\n",
      "+---------------------+----------------------------------------+----------------------------------------+\n",
      "|    Elapsed Time     |                                      0.23 s                                     |\n",
      "+---------------------+----------------------------------------+----------------------------------------+\n"
     ]
    },
    {
     "name": "stderr",
     "output_type": "stream",
     "text": [
      "Onnx Runtime version 1.19 has no specified compatible ONNX version.\n"
     ]
    }
   ],
   "execution_count": 1
  },
  {
   "cell_type": "code",
   "metadata": {
    "collapsed": false,
    "jupyter": {
     "outputs_hidden": false
    },
    "pycharm": {
     "name": "#%%\n"
    },
    "ExecuteTime": {
     "end_time": "2024-10-19T13:58:56.174983Z",
     "start_time": "2024-10-19T13:58:55.580038Z"
    }
   },
   "source": [
    "from pathlib import Path\n",
    "import onnx\n",
    "from onnxruntime.quantization import quantize_dynamic, QuantType, quant_pre_process\n",
    "def quantize_model(root_dir_str, model_dir, pre_fix):\n",
    "\n",
    "    original_model_path = f\"{pre_fix}.onnx\"\n",
    "    quantized_model_path = f\"{pre_fix}_quantized.onnx\"\n",
    "    # quantized_model_path = original_model_path\n",
    "    original_model_path = f\"{root_dir_str}/{model_dir}/{original_model_path}\"\n",
    "    quantized_model_path = f\"{root_dir_str}/{model_dir}/{quantized_model_path}\"\n",
    "    quant_pre_process(original_model_path, quantized_model_path, auto_merge=True)\n",
    "    # 进行动态量化\n",
    "    quantize_dynamic(\n",
    "        model_input=quantized_model_path,\n",
    "        model_output=quantized_model_path,\n",
    "        weight_type=QuantType.QUInt8\n",
    "    )\n",
    "\n",
    "    # 验证量化后的模型\n",
    "    quantized_model = onnx.load(quantized_model_path)\n",
    "    onnx.checker.check_model(quantized_model)\n",
    "    print(\"Quantized model is valid.\")"
   ],
   "outputs": [],
   "execution_count": 2
  },
  {
   "cell_type": "code",
   "metadata": {
    "collapsed": false,
    "jupyter": {
     "outputs_hidden": false
    },
    "pycharm": {
     "name": "#%%\n"
    },
    "ExecuteTime": {
     "end_time": "2024-10-19T13:59:14.149803Z",
     "start_time": "2024-10-19T13:58:59.542092Z"
    }
   },
   "source": [
    "root_dir_str = \"..\"\n",
    "model_dir = f\"rapid_table_det/models\"\n",
    "quantize_model(root_dir_str, model_dir,  \"obj_det\")\n",
    "quantize_model(root_dir_str, model_dir,  \"edge_det\")"
   ],
   "outputs": [
    {
     "name": "stdout",
     "output_type": "stream",
     "text": [
      "Quantized model is valid.\n",
      "Quantized model is valid.\n"
     ]
    }
   ],
   "execution_count": 3
  },
  {
   "cell_type": "code",
   "metadata": {
    "ExecuteTime": {
     "end_time": "2024-10-19T13:59:19.984452Z",
     "start_time": "2024-10-19T13:59:18.181521Z"
    }
   },
   "source": [
    "from fix_onnx import fix_onnx\n",
    "import os\n",
    "# 指定目录路径\n",
    "model_dir = \"../rapid_table_det/models\"\n",
    "# 加载现有 ONNX 模型\n",
    "model_path = os.path.join(model_dir, \"obj_det.onnx\")\n",
    "fix_onnx(model_path)\n",
    "model_path = os.path.join(model_dir, \"obj_det_quantized.onnx\")\n",
    "fix_onnx(model_path)"
   ],
   "outputs": [],
   "execution_count": 4
  },
  {
   "cell_type": "code",
   "execution_count": null,
   "metadata": {},
   "outputs": [],
   "source": []
  }
 ],
 "metadata": {
  "kernelspec": {
   "display_name": "Python 3 (ipykernel)",
   "language": "python",
   "name": "python3"
  },
  "language_info": {
   "codemirror_mode": {
    "name": "ipython",
    "version": 3
   },
   "file_extension": ".py",
   "mimetype": "text/x-python",
   "name": "python",
   "nbconvert_exporter": "python",
   "pygments_lexer": "ipython3",
   "version": "3.10.14"
  }
 },
 "nbformat": 4,
 "nbformat_minor": 4
}
